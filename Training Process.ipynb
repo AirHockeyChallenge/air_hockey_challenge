{
 "cells": [
  {
   "cell_type": "markdown",
   "id": "b178cff1-7c07-482c-9a92-a831d02c770a",
   "metadata": {},
   "source": [
    "# Setting up training with codebase"
   ]
  },
  {
   "cell_type": "code",
   "execution_count": 1,
   "id": "42b4aa84-1884-4261-bb7d-abefc0aa23e4",
   "metadata": {},
   "outputs": [],
   "source": [
    "import torch\n",
    "import torch.nn as nn"
   ]
  },
  {
   "cell_type": "code",
   "execution_count": 2,
   "id": "e99b551d-39f5-4b7a-83e9-e1b32da64117",
   "metadata": {},
   "outputs": [
    {
     "name": "stdout",
     "output_type": "stream",
     "text": [
      "/home/andang/workspace/Classes/spring_2023/eecs298/air_hockey_challenge\n"
     ]
    }
   ],
   "source": [
    "!pwd"
   ]
  },
  {
   "cell_type": "markdown",
   "id": "b2d4409d-27c1-49a9-96fc-6f430d334780",
   "metadata": {},
   "source": [
    "### Example dummy agent.\n",
    "- this agent holds its current position/vel\n",
    "- doesn't do anything.\n",
    "- used to show how to setup an agent."
   ]
  },
  {
   "cell_type": "code",
   "execution_count": 3,
   "id": "72b6ef3c-31bc-403c-ad91-bbfa1e4ed564",
   "metadata": {},
   "outputs": [],
   "source": [
    "import numpy as np\n",
    "from air_hockey_challenge.framework import AgentBase\n",
    "\n",
    "\n",
    "def build_agent(env_info, **kwargs):\n",
    "    \"\"\"\n",
    "    Function where an Agent that controls the environments should be returned.\n",
    "    The Agent should inherit from the mushroom_rl Agent base env.\n",
    "\n",
    "    Args:\n",
    "        env_info (dict): The environment information\n",
    "        kwargs (any): Additionally setting from agent_config.yml\n",
    "    Returns:\n",
    "         (AgentBase) An instance of the Agent\n",
    "    \"\"\"\n",
    "\n",
    "    return DummyAgent(env_info, **kwargs)\n",
    "\n",
    "'''\n",
    "    We will compute the action which is desired pos & vel.\n",
    "'''\n",
    "\n",
    "class DummyAgent(AgentBase):\n",
    "    def __init__(self, env_info, **kwargs):\n",
    "        super().__init__(env_info, **kwargs)\n",
    "        self.new_start = True\n",
    "        self.hold_position = None\n",
    "\n",
    "    def reset(self):\n",
    "        self.new_start = True\n",
    "        self.hold_position = None\n",
    "\n",
    "    def draw_action(self, obs):\n",
    "        # breaking down observation into something we can use\n",
    "        # self.get_joint_pos(obs), self.get_joint_vel(obs), self.get_puck_pos(obs)\n",
    "        \n",
    "        hold_position = self.get_joint_pos(observation)\n",
    "        velocity = np.zeros_like(hold_position)\n",
    "        action = np.vstack([hold_position, velocity])\n",
    "        return action"
   ]
  },
  {
   "cell_type": "markdown",
   "id": "9127b1d0-430d-44e1-bc87-014f469f7eeb",
   "metadata": {},
   "source": [
    "### Setup PyTorch Neural Network to convert observation space to action space"
   ]
  },
  {
   "cell_type": "code",
   "execution_count": 33,
   "id": "b4e5fc56-992a-487e-9079-4053c51430a0",
   "metadata": {},
   "outputs": [],
   "source": [
    "#super stupid forward pass neural network\n",
    "class ActionGenerator(nn.Module):\n",
    "    def __init__(self, input_dim, num_layers, layer_width, output_dim, activation = nn.LeakyReLU(0.1) ):\n",
    "        super().__init__()\n",
    "        layers = [nn.Linear(input_dim, layer_width), activation]\n",
    "        for i in range(num_layers-1):\n",
    "            layers.append(nn.Linear(layer_width, layer_width))\n",
    "            layers.append(activation)\n",
    "        layers.append(nn.Linear(layer_width, output_dim))\n",
    "        layers.append(activation)\n",
    "        \n",
    "        self.model = nn.Sequential(*layers)\n",
    "    def forward(self, x):\n",
    "        out = self.model(x)\n",
    "        return out"
   ]
  },
  {
   "cell_type": "code",
   "execution_count": 34,
   "id": "572ca95a-9344-4050-b864-55ed4804c91f",
   "metadata": {},
   "outputs": [
    {
     "name": "stdout",
     "output_type": "stream",
     "text": [
      "torch.Size([1, 6])\n"
     ]
    }
   ],
   "source": [
    "network = ActionGenerator(8,20,10,6)\n",
    "print(network(torch.zeros(1,8)).shape)"
   ]
  },
  {
   "cell_type": "code",
   "execution_count": 6,
   "id": "2a01fbf2-aec6-4154-9df9-2649593416da",
   "metadata": {},
   "outputs": [],
   "source": [
    "#we are gonna try using a DQN for this\n",
    "from mushroom_rl.algorithms.value import DQN"
   ]
  },
  {
   "cell_type": "markdown",
   "id": "6cb14a80-5035-4580-8f3f-741c2084816f",
   "metadata": {},
   "source": [
    "### Setup DeepDummy Agent"
   ]
  },
  {
   "cell_type": "code",
   "execution_count": 41,
   "id": "f4a5158f-1882-43fc-a851-6742411e6fed",
   "metadata": {},
   "outputs": [],
   "source": [
    "class DeepDummyAgent(AgentBase):\n",
    "    def __init__(self, env_info, act_shape, load_path=None, **kwargs):\n",
    "        super().__init__(env_info, **kwargs)\n",
    "        self.new_start = True\n",
    "        self.hold_position = None\n",
    "        \n",
    "        #observation is shape 12 \n",
    "        self.model = ActionGenerator(6, 20,10, act_shape)\n",
    "        \n",
    "        if not (load_path is None):\n",
    "            self.model.load_state_dict(load_path)\n",
    "        \n",
    "        \n",
    "    def reset(self):\n",
    "        self.new_start = True\n",
    "        self.hold_position = None\n",
    "\n",
    "    def draw_action(self, obs):\n",
    "        # breaking down observation into something we can use\n",
    "        # self.get_joint_pos(obs), self.get_joint_vel(obs), self.get_puck_pos(obs)\n",
    "        \n",
    "        #obs is a numpy array\n",
    "        \n",
    "        puck_pos, puck_vel = self.get_puck_state(obs)\n",
    "        \n",
    "        puck_state = np.hstack((puck_pos,puck_vel))[:,np.newaxis].T\n",
    "        \n",
    "        action = self.model(torch.tensor(puck_state,dtype=torch.float))\n",
    "        action = torch.reshape(action,(2,3))\n",
    "        return action.detach().numpy()"
   ]
  },
  {
   "cell_type": "code",
   "execution_count": 43,
   "id": "c55d0dad-0f3e-46ff-8848-cbf860ed8dd9",
   "metadata": {},
   "outputs": [
    {
     "name": "stderr",
     "output_type": "stream",
     "text": [
      "\n",
      "\n",
      "\n",
      "\n",
      "\n",
      "\n",
      "\n",
      "\n",
      "\n",
      "\n",
      "\n",
      "\n",
      "\n",
      "  0%|                                                                                                                                                      | 0/10 [00:00<?, ?it/s]\u001b[A\u001b[A\u001b[A\u001b[A\u001b[A\u001b[A\u001b[A\u001b[A\u001b[A\u001b[A\u001b[A\u001b[A\u001b[A\n",
      "\n",
      "\n",
      "\n",
      "\n",
      "\n",
      "\n",
      "\n",
      "\n",
      "\n",
      "\n",
      "\n",
      "\n",
      " 10%|██████████████▏                                                                                                                               | 1/10 [00:01<00:16,  1.87s/it]\u001b[A\u001b[A\u001b[A\u001b[A\u001b[A\u001b[A\u001b[A\u001b[A\u001b[A\u001b[A\u001b[A\u001b[A\u001b[A\n",
      "\n",
      "\n",
      "\n",
      "\n",
      "\n",
      "\n",
      "\n",
      "\n",
      "\n",
      "\n",
      "\n",
      "\n",
      " 20%|████████████████████████████▍                                                                                                                 | 2/10 [00:03<00:14,  1.84s/it]\u001b[A\u001b[A\u001b[A\u001b[A\u001b[A\u001b[A\u001b[A\u001b[A\u001b[A\u001b[A\u001b[A\u001b[A\u001b[A\n",
      "\n",
      "\n",
      "\n",
      "\n",
      "\n",
      "\n",
      "\n",
      "\n",
      "\n",
      "\n",
      "\n",
      "\n",
      " 30%|██████████████████████████████████████████▌                                                                                                   | 3/10 [00:05<00:12,  1.83s/it]\u001b[A\u001b[A\u001b[A\u001b[A\u001b[A\u001b[A\u001b[A\u001b[A\u001b[A\u001b[A\u001b[A\u001b[A\u001b[A\n",
      "\n",
      "\n",
      "\n",
      "\n",
      "\n",
      "\n",
      "\n",
      "\n",
      "\n",
      "\n",
      "\n",
      "\n",
      " 40%|████████████████████████████████████████████████████████▊                                                                                     | 4/10 [00:07<00:11,  1.84s/it]\u001b[A\u001b[A\u001b[A\u001b[A\u001b[A\u001b[A\u001b[A\u001b[A\u001b[A\u001b[A\u001b[A\u001b[A\u001b[A\n",
      "\n",
      "\n",
      "\n",
      "\n",
      "\n",
      "\n",
      "\n",
      "\n",
      "\n",
      "\n",
      "\n",
      "\n",
      " 50%|███████████████████████████████████████████████████████████████████████                                                                       | 5/10 [00:09<00:09,  1.84s/it]\u001b[A\u001b[A\u001b[A\u001b[A\u001b[A\u001b[A\u001b[A\u001b[A\u001b[A\u001b[A\u001b[A\u001b[A\u001b[A\n",
      "\n",
      "\n",
      "\n",
      "\n",
      "\n",
      "\n",
      "\n",
      "\n",
      "\n",
      "\n",
      "\n",
      "\n",
      " 60%|█████████████████████████████████████████████████████████████████████████████████████▏                                                        | 6/10 [00:11<00:07,  1.84s/it]\u001b[A\u001b[A\u001b[A\u001b[A\u001b[A\u001b[A\u001b[A\u001b[A\u001b[A\u001b[A\u001b[A\u001b[A\u001b[A\n",
      "\n",
      "\n",
      "\n",
      "\n",
      "\n",
      "\n",
      "\n",
      "\n",
      "\n",
      "\n",
      "\n",
      "\n",
      " 70%|███████████████████████████████████████████████████████████████████████████████████████████████████▍                                          | 7/10 [00:12<00:05,  1.83s/it]\u001b[A\u001b[A\u001b[A\u001b[A\u001b[A\u001b[A\u001b[A\u001b[A\u001b[A\u001b[A\u001b[A\u001b[A\u001b[A\n",
      "\n",
      "\n",
      "\n",
      "\n",
      "\n",
      "\n",
      "\n",
      "\n",
      "\n",
      "\n",
      "\n",
      "\n",
      " 80%|█████████████████████████████████████████████████████████████████████████████████████████████████████████████████▌                            | 8/10 [00:14<00:03,  1.87s/it]\u001b[A\u001b[A\u001b[A\u001b[A\u001b[A\u001b[A\u001b[A\u001b[A\u001b[A\u001b[A\u001b[A\u001b[A\u001b[A\n",
      "\n",
      "\n",
      "\n",
      "\n",
      "\n",
      "\n",
      "\n",
      "\n",
      "\n",
      "\n",
      "\n",
      "\n",
      " 90%|███████████████████████████████████████████████████████████████████████████████████████████████████████████████████████████████▊              | 9/10 [00:16<00:01,  1.85s/it]\u001b[A\u001b[A\u001b[A\u001b[A\u001b[A\u001b[A\u001b[A\u001b[A\u001b[A\u001b[A\u001b[A\u001b[A\u001b[A\n",
      "\n",
      "\n",
      "\n",
      "\n",
      "\n",
      "\n",
      "\n",
      "\n",
      "\n",
      "\n",
      "\n",
      "\n",
      "100%|█████████████████████████████████████████████████████████████████████████████████████████████████████████████████████████████████████████████| 10/10 [00:18<00:00,  1.84s/it]\u001b[A\u001b[A\u001b[A\u001b[A\u001b[A\u001b[A\u001b[A\u001b[A\u001b[A\u001b[A\u001b[A\u001b[A\u001b[A"
     ]
    },
    {
     "ename": "NotImplementedError",
     "evalue": "Agent is an abstract class",
     "output_type": "error",
     "traceback": [
      "\u001b[0;31m---------------------------------------------------------------------------\u001b[0m",
      "\u001b[0;31mNotImplementedError\u001b[0m                       Traceback (most recent call last)",
      "Cell \u001b[0;32mIn[43], line 12\u001b[0m\n\u001b[1;32m      8\u001b[0m agent \u001b[38;5;241m=\u001b[39m DeepDummyAgent(mdp\u001b[38;5;241m.\u001b[39mbase_env\u001b[38;5;241m.\u001b[39menv_info,\u001b[38;5;241m6\u001b[39m)\n\u001b[1;32m     10\u001b[0m core \u001b[38;5;241m=\u001b[39m ChallengeCore(agent, mdp)\n\u001b[0;32m---> 12\u001b[0m \u001b[43mcore\u001b[49m\u001b[38;5;241;43m.\u001b[39;49m\u001b[43mlearn\u001b[49m\u001b[43m(\u001b[49m\u001b[43mn_episodes\u001b[49m\u001b[38;5;241;43m=\u001b[39;49m\u001b[38;5;241;43m10\u001b[39;49m\u001b[43m,\u001b[49m\u001b[43m \u001b[49m\u001b[43mn_episodes_per_fit\u001b[49m\u001b[38;5;241;43m=\u001b[39;49m\u001b[38;5;241;43m10\u001b[39;49m\u001b[43m,\u001b[49m\u001b[43m \u001b[49m\u001b[43mrender\u001b[49m\u001b[38;5;241;43m=\u001b[39;49m\u001b[38;5;28;43;01mFalse\u001b[39;49;00m\u001b[43m)\u001b[49m \u001b[38;5;66;03m#render allows us to visualize what's going on\u001b[39;00m\n",
      "File \u001b[0;32m~/.local/lib/python3.8/site-packages/mushroom_rl/core/core.py:72\u001b[0m, in \u001b[0;36mCore.learn\u001b[0;34m(self, n_steps, n_episodes, n_steps_per_fit, n_episodes_per_fit, render, quiet)\u001b[0m\n\u001b[1;32m     68\u001b[0m \u001b[38;5;28;01melse\u001b[39;00m:\n\u001b[1;32m     69\u001b[0m     fit_condition \u001b[38;5;241m=\u001b[39m \u001b[38;5;28;01mlambda\u001b[39;00m: \u001b[38;5;28mself\u001b[39m\u001b[38;5;241m.\u001b[39m_current_episodes_counter\\\n\u001b[1;32m     70\u001b[0m                              \u001b[38;5;241m>\u001b[39m\u001b[38;5;241m=\u001b[39m \u001b[38;5;28mself\u001b[39m\u001b[38;5;241m.\u001b[39m_n_episodes_per_fit\n\u001b[0;32m---> 72\u001b[0m \u001b[38;5;28;43mself\u001b[39;49m\u001b[38;5;241;43m.\u001b[39;49m\u001b[43m_run\u001b[49m\u001b[43m(\u001b[49m\u001b[43mn_steps\u001b[49m\u001b[43m,\u001b[49m\u001b[43m \u001b[49m\u001b[43mn_episodes\u001b[49m\u001b[43m,\u001b[49m\u001b[43m \u001b[49m\u001b[43mfit_condition\u001b[49m\u001b[43m,\u001b[49m\u001b[43m \u001b[49m\u001b[43mrender\u001b[49m\u001b[43m,\u001b[49m\u001b[43m \u001b[49m\u001b[43mquiet\u001b[49m\u001b[43m,\u001b[49m\u001b[43m \u001b[49m\u001b[43mget_env_info\u001b[49m\u001b[38;5;241;43m=\u001b[39;49m\u001b[38;5;28;43;01mFalse\u001b[39;49;00m\u001b[43m)\u001b[49m\n",
      "File \u001b[0;32m~/.local/lib/python3.8/site-packages/mushroom_rl/core/core.py:128\u001b[0m, in \u001b[0;36mCore._run\u001b[0;34m(self, n_steps, n_episodes, fit_condition, render, quiet, get_env_info, initial_states)\u001b[0m\n\u001b[1;32m    123\u001b[0m     steps_progress_bar \u001b[38;5;241m=\u001b[39m tqdm(disable\u001b[38;5;241m=\u001b[39m\u001b[38;5;28;01mTrue\u001b[39;00m)\n\u001b[1;32m    124\u001b[0m     episodes_progress_bar \u001b[38;5;241m=\u001b[39m tqdm(total\u001b[38;5;241m=\u001b[39m\u001b[38;5;28mself\u001b[39m\u001b[38;5;241m.\u001b[39m_n_episodes,\n\u001b[1;32m    125\u001b[0m                                  dynamic_ncols\u001b[38;5;241m=\u001b[39m\u001b[38;5;28;01mTrue\u001b[39;00m, disable\u001b[38;5;241m=\u001b[39mquiet,\n\u001b[1;32m    126\u001b[0m                                  leave\u001b[38;5;241m=\u001b[39m\u001b[38;5;28;01mFalse\u001b[39;00m)\n\u001b[0;32m--> 128\u001b[0m dataset, dataset_info \u001b[38;5;241m=\u001b[39m \u001b[38;5;28;43mself\u001b[39;49m\u001b[38;5;241;43m.\u001b[39;49m\u001b[43m_run_impl\u001b[49m\u001b[43m(\u001b[49m\u001b[43mmove_condition\u001b[49m\u001b[43m,\u001b[49m\u001b[43m \u001b[49m\u001b[43mfit_condition\u001b[49m\u001b[43m,\u001b[49m\u001b[43m \u001b[49m\u001b[43msteps_progress_bar\u001b[49m\u001b[43m,\u001b[49m\n\u001b[1;32m    129\u001b[0m \u001b[43m                                        \u001b[49m\u001b[43mepisodes_progress_bar\u001b[49m\u001b[43m,\u001b[49m\u001b[43m \u001b[49m\u001b[43mrender\u001b[49m\u001b[43m,\u001b[49m\u001b[43m \u001b[49m\u001b[43minitial_states\u001b[49m\u001b[43m)\u001b[49m\n\u001b[1;32m    131\u001b[0m \u001b[38;5;28;01mif\u001b[39;00m get_env_info:\n\u001b[1;32m    132\u001b[0m     \u001b[38;5;28;01mreturn\u001b[39;00m dataset, dataset_info\n",
      "File \u001b[0;32m~/.local/lib/python3.8/site-packages/mushroom_rl/core/core.py:170\u001b[0m, in \u001b[0;36mCore._run_impl\u001b[0;34m(self, move_condition, fit_condition, steps_progress_bar, episodes_progress_bar, render, initial_states)\u001b[0m\n\u001b[1;32m    167\u001b[0m     dataset_info[key]\u001b[38;5;241m.\u001b[39mappend(value)\n\u001b[1;32m    169\u001b[0m \u001b[38;5;28;01mif\u001b[39;00m fit_condition():\n\u001b[0;32m--> 170\u001b[0m     \u001b[38;5;28;43mself\u001b[39;49m\u001b[38;5;241;43m.\u001b[39;49m\u001b[43magent\u001b[49m\u001b[38;5;241;43m.\u001b[39;49m\u001b[43mfit\u001b[49m\u001b[43m(\u001b[49m\u001b[43mdataset\u001b[49m\u001b[43m,\u001b[49m\u001b[43m \u001b[49m\u001b[38;5;241;43m*\u001b[39;49m\u001b[38;5;241;43m*\u001b[39;49m\u001b[43mdataset_info\u001b[49m\u001b[43m)\u001b[49m\n\u001b[1;32m    171\u001b[0m     \u001b[38;5;28mself\u001b[39m\u001b[38;5;241m.\u001b[39m_current_episodes_counter \u001b[38;5;241m=\u001b[39m \u001b[38;5;241m0\u001b[39m\n\u001b[1;32m    172\u001b[0m     \u001b[38;5;28mself\u001b[39m\u001b[38;5;241m.\u001b[39m_current_steps_counter \u001b[38;5;241m=\u001b[39m \u001b[38;5;241m0\u001b[39m\n",
      "File \u001b[0;32m~/.local/lib/python3.8/site-packages/mushroom_rl/core/agent.py:48\u001b[0m, in \u001b[0;36mAgent.fit\u001b[0;34m(self, dataset, **info)\u001b[0m\n\u001b[1;32m     40\u001b[0m \u001b[38;5;28;01mdef\u001b[39;00m \u001b[38;5;21mfit\u001b[39m(\u001b[38;5;28mself\u001b[39m, dataset, \u001b[38;5;241m*\u001b[39m\u001b[38;5;241m*\u001b[39minfo):\n\u001b[1;32m     41\u001b[0m \u001b[38;5;250m    \u001b[39m\u001b[38;5;124;03m\"\"\"\u001b[39;00m\n\u001b[1;32m     42\u001b[0m \u001b[38;5;124;03m    Fit step.\u001b[39;00m\n\u001b[1;32m     43\u001b[0m \n\u001b[0;32m   (...)\u001b[0m\n\u001b[1;32m     46\u001b[0m \n\u001b[1;32m     47\u001b[0m \u001b[38;5;124;03m    \"\"\"\u001b[39;00m\n\u001b[0;32m---> 48\u001b[0m     \u001b[38;5;28;01mraise\u001b[39;00m \u001b[38;5;167;01mNotImplementedError\u001b[39;00m(\u001b[38;5;124m'\u001b[39m\u001b[38;5;124mAgent is an abstract class\u001b[39m\u001b[38;5;124m'\u001b[39m)\n",
      "\u001b[0;31mNotImplementedError\u001b[0m: Agent is an abstract class"
     ]
    }
   ],
   "source": [
    "#setting this up\n",
    "\n",
    "import numpy as np\n",
    "from air_hockey_challenge.framework.air_hockey_challenge_wrapper import AirHockeyChallengeWrapper\n",
    "from air_hockey_challenge.framework.challenge_core import ChallengeCore\n",
    "\n",
    "mdp = AirHockeyChallengeWrapper(env=\"3dof-hit\", action_type=\"position-velocity\", interpolation_order=3, debug=True)\n",
    "agent = DeepDummyAgent(mdp.base_env.env_info,6)\n",
    "\n",
    "core = ChallengeCore(agent, mdp)\n",
    "\n",
    "core.learn(n_episodes=10, n_episodes_per_fit=10, render=False) #render allows us to visualize what's going on"
   ]
  },
  {
   "cell_type": "code",
   "execution_count": null,
   "id": "ed34e0f9-a166-447b-8a2f-0b2bfe0b7ed9",
   "metadata": {},
   "outputs": [],
   "source": []
  }
 ],
 "metadata": {
  "kernelspec": {
   "display_name": "Python 3 (ipykernel)",
   "language": "python",
   "name": "python3"
  },
  "language_info": {
   "codemirror_mode": {
    "name": "ipython",
    "version": 3
   },
   "file_extension": ".py",
   "mimetype": "text/x-python",
   "name": "python",
   "nbconvert_exporter": "python",
   "pygments_lexer": "ipython3",
   "version": "3.8.10"
  }
 },
 "nbformat": 4,
 "nbformat_minor": 5
}
